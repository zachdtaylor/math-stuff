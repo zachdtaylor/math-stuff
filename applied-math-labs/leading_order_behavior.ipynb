{
 "cells": [
  {
   "cell_type": "markdown",
   "id": "bc8cf95d-8803-4f75-bc4a-f1cc18334807",
   "metadata": {},
   "source": [
    "$\\newcommand\\norm[1]{\\lVert#1\\rVert}$\n",
    "$\\newcommand\\b[1]{\\textbf{#1}}$"
   ]
  },
  {
   "cell_type": "markdown",
   "id": "01d81102-4bfa-4efa-a676-f93f6d3c24a8",
   "metadata": {},
   "source": [
    "# Leading Order Behavior\n",
    "\n",
    "The term \"leading order behavior\" refers to the leading coefficient on the complexity of an algorithm.\n",
    "\n",
    "A lot of the time, people are only interested in the big-O behavior of an algorithm. The big-O behavior is useful, but the leading coefficient makes a difference, too. For example, $n^2$ and $100n^2$ are both $O(n^2)$, but obviously one is much bigger than the other.\n",
    "\n",
    "In this notebook, we're going to walk through and example that illustrates the importance of the leading coefficient in terms of floating point operations (FLOPs) and execution time.\n",
    "\n",
    "## First, Some Definitions\n",
    "\n",
    "**Definition 1** Let $S$ be either $\\mathbb{R}$ or $\\mathbb{Z}^+$ and let $f : S \\rightarrow \\mathbb{R}$ and $g : S \\rightarrow \\mathbb{R}$. We say that $f(n)$ is _asymptotically equivalent_ to $g(n)$, denoted $f(n) \\sim g(n)$ as $n \\rightarrow \\infty$ if \n",
    "\n",
    "$$\\lim_{n \\rightarrow \\infty} \\frac{f(n)}{g(n)} = 1$$\n",
    "\n",
    "Notationally, we often drop the $n \\rightarrow \\infty$ part and just write $f(n) \\sim g(n)$. An example of this would be $3n^2 - n + 1 \\sim 3n^2$, because \n",
    "\n",
    "$$\\lim_{n \\rightarrow \\infty} \\frac{3n^2 - n + 1}{3n^2} = \\lim_{n \\rightarrow \\infty} 1 - \\frac{1}{3n} + \\frac{1}{3n^2} = 1$$\n",
    "\n",
    "Note that the leading coefficient makes a difference here, which is different from big-O. For example, $3n^2 \\in O(n^2)$, but $3n^2$ is not asymptotically equivalent to $n^2$.\n",
    "\n",
    "**Definition 2** Let $\\b{x} = (x_1, x_2)$ be a point in $\\mathbb{R}^2$. The _2-norm_ of $\\b{x}$, denoted $\\norm{\\b{x}}_2$ is given by\n",
    "\n",
    "$$\\norm{\\b{x}}_2 = \\sqrt{x_1^2 + x_2^2}$$\n",
    "\n",
    "**Definition 3** Let $\\b{x}, \\b{y} \\in \\mathbb{R}^2$. The _Euclidian distance_ between $\\b{x}$ and $\\b{y}$ is given by $\\norm{\\b{x} - \\b{y}}_2$. In particular, if $\\b{x} = (x_1, x_2)$ and $\\b{y} = (y_1, y_2)$, then the Euclidian distance between $\\b{x}$ and $\\b{y}$ is\n",
    "\n",
    "$$\\norm{\\b{x}-\\b{y}}_2 = \\sqrt{(x_1 - y_1)^2 + (x_2 - y_2)^2}$$\n",
    "\n",
    "## Comparing Distances Between Points in the Plane\n",
    "\n",
    "Given $n$ points in the plane, let's write a brute force algorithm for finding the pair that are closest together.\n",
    "\n",
    "First we need a function for calculating the Euclidian distance between two points."
   ]
  },
  {
   "cell_type": "code",
   "execution_count": 1,
   "id": "bf46328f-63ba-4ec0-88fa-36037438240d",
   "metadata": {
    "tags": []
   },
   "outputs": [
    {
     "data": {
      "text/plain": [
       "1.4142135623730951"
      ]
     },
     "execution_count": 1,
     "metadata": {},
     "output_type": "execute_result"
    }
   ],
   "source": [
    "import numpy as np\n",
    "\n",
    "def calculate_dist(x, y):\n",
    "    \"\"\"Calculates the Euclidian distance between the 2-tuples x and y.\"\"\"\n",
    "    return np.sqrt((x[0] - y[0])**2 + (x[1] - y[1])**2)\n",
    "\n",
    "calculate_dist((1, 1), (0, 0))"
   ]
  },
  {
   "cell_type": "markdown",
   "id": "043e518f-ecce-428e-aefd-c6847791aeb0",
   "metadata": {},
   "source": [
    "The `calculate_dist` function has 10 FLOPs: 4 tuple lookups, 2 subtractions, 2 squares, 1 addition and 1 square root.\n",
    "\n",
    "Now, given $n$ points, we can find the pair with the smallest distance as follows."
   ]
  },
  {
   "cell_type": "code",
   "execution_count": 2,
   "id": "4d57793c-ed4c-42b8-b0a5-2b8dccb10f05",
   "metadata": {
    "tags": []
   },
   "outputs": [],
   "source": [
    "def closest_pair(points):\n",
    "    \"\"\"Find the pair of points that are closest together\"\"\"\n",
    "    n = len(points)\n",
    "    min_dist = None; min_p1 = None; min_p2 = None\n",
    "    \n",
    "    for k in range(n):\n",
    "        for j in range(k+1, n):\n",
    "            p1 = points[k]; p2 = points[j]\n",
    "            dist = calculate_dist(p1, p2)\n",
    "            if min_dist is None or dist < min_dist:\n",
    "                min_dist = dist; min_p1 = p1; min_p2 = p2\n",
    "                \n",
    "    return min_p1, min_p2"
   ]
  },
  {
   "cell_type": "code",
   "execution_count": 3,
   "id": "5aa9c03d-7870-45c7-9dde-1945e5fc3bc9",
   "metadata": {
    "tags": []
   },
   "outputs": [
    {
     "name": "stdout",
     "output_type": "stream",
     "text": [
      "[[-2.34 -0.75]\n",
      " [-0.81  0.89]\n",
      " [-2.79  0.55]\n",
      " [ 7.72 -2.13]\n",
      " [-0.49 -2.64]] \n",
      "\n",
      "Closest pair: (array([-2.34, -0.75]), array([-2.79,  0.55]))\n"
     ]
    }
   ],
   "source": [
    "points = np.round(np.random.randn(5, 2)*3, 2)\n",
    "print(points, '\\n')\n",
    "print(f'Closest pair: {closest_pair(points)}')"
   ]
  },
  {
   "cell_type": "markdown",
   "id": "ef380269-fe8b-4460-a9fb-7e13d7e062ed",
   "metadata": {},
   "source": [
    "Let's think about the temporal complexity of this algorithm in terms of FLOPs.\n",
    "\n",
    "We start the function off with 4 assignments.\n",
    "\n",
    "Inside the loop, before the `if` statement, we have 2 list lookups, 2 assignments, a call to `calculate_dist`, and an assignment to `dist`. So this part of the code has 15 FLOPs.\n",
    "\n",
    "The `if` statement has _at most_ 2 compares. On the first run of the loop, there is only 1 compare, since `min_dist is None` is true. Inside the `if` statement, we have 3 assignments.\n",
    "\n",
    "So on the first run of the loop, the loop block has 15 + 1 + 3 = 19 FLOPs.\n",
    "\n",
    "On subsequent runs of the loop, `min_dist is None` will _always_ be false, so there will _always_ be 2 compares. This means that there will be a minimum of 15 + 2 = 17 FLOPs and a maximum of 15 + 2 + 3 = 20 FLOPs, depending on whether `dist < min_dist` is true or not.\n",
    "\n",
    "The loop itself runs $\\frac{1}{2}(n^2 - n)$ times (proof at the end), so at worst the loop has\n",
    "\n",
    "$$19 + 20(\\frac{1}{2}(n^2 - n) - 1) = 19 + 10(n^2 - n) - 20 = 10n^2 - 10n - 1$$\n",
    "\n",
    "FLOPs. So, the total number of FLOPs in the algorithm is at most $4 + (10n^2 - 10n - 1) = 10n^2 - 10n + 3 \\sim 10n^2$.\n",
    "\n",
    "## Optimization\n",
    "\n",
    "Now let's optimize the algorithm a bit.\n",
    "\n",
    "To _compare_ distances, we actually don't need to compute the 2-norm. It's sufficient to compute the 2-norm squared. To see why, note that $\\sqrt{x}$ is a strictly increasing function on $[0, \\infty)$, so $x < y$ implies that $\\sqrt{x} < \\sqrt{y}$.\n",
    "\n",
    "In the context of what we're doing, this means that, given $\\b{x}_1, \\b{x}_2, \\b{x}_3 \\in \\mathbb{R}^2$\n",
    "\n",
    "$$\\norm{\\b{x}_1 - \\b{x}_2}_2^2 < \\norm{\\b{x}_2 - \\b{x}_3}_2^2 \\Longrightarrow \\norm{\\b{x}_1 - \\b{x}_2}_2 < \\norm{\\b{x}_2 - \\b{x}_3}_2$$\n",
    "\n",
    "So, we can leave off the square root in our `calculate_dist` function (1 less FLOP!) and the comparisons will all work out the same.\n",
    "\n",
    "Let's write a new version of the algorithm that takes this knowledge into account."
   ]
  },
  {
   "cell_type": "code",
   "execution_count": 4,
   "id": "7389c458-3055-48b7-859c-99778dfddbfd",
   "metadata": {
    "tags": []
   },
   "outputs": [],
   "source": [
    "def calculate_dist_squared(x, y):\n",
    "    \"\"\"Calculates the squared Euclidian distance between the 2-tuples x and y.\"\"\"\n",
    "    return ((x[0] - y[0])**2 + (x[1] - y[1])**2)\n",
    "\n",
    "def closest_pair_optimized(points):\n",
    "    \"\"\"Find the pair of points that are closest together\"\"\"\n",
    "    n = len(points)\n",
    "    min_dist = None; min_p1 = None; min_p2 = None\n",
    "    \n",
    "    for k in range(n):\n",
    "        for j in range(k+1, n):\n",
    "            p1 = points[k]; p2 = points[j]\n",
    "            dist = calculate_dist_squared(p1, p2)\n",
    "            if min_dist is None or dist < min_dist:\n",
    "                min_dist = dist; min_p1 = p1; min_p2 = p2\n",
    "                \n",
    "    return min_p1, min_p2"
   ]
  },
  {
   "cell_type": "markdown",
   "id": "f9243572-115c-4e8f-8191-33cdfb4b929a",
   "metadata": {},
   "source": [
    "Calculating the squared distance between two points requires 1 less FLOP, so 9 total.\n",
    "\n",
    "This means that the first run of the loop now has 18 FLOPs and the other loops have at most 19 FLOPs, bringing the total number of FLOPs in the loop to\n",
    "\n",
    "$$18 + 19(\\frac{1}{2}(n^2 - n) - 1) = 9.5(n^2 - n) - 1$$\n",
    "\n",
    "The total number of FLOPs in the optimized algorithm, then, is $9.5(n^2 - n) + 3 \\sim 9.5n^2$\n",
    "\n",
    "The difference between the $\\sim 10n^2$  FLOPs we had before and the $\\sim 9.5n^2$ FLOPs we have now is actually pretty significant as $n$ grows."
   ]
  },
  {
   "cell_type": "code",
   "execution_count": 5,
   "id": "c878263b-080f-43bf-905d-70b554c5c624",
   "metadata": {
    "tags": []
   },
   "outputs": [
    {
     "data": {
      "image/png": "[encoded data removed]",
      "text/plain": [
       "<Figure size 640x480 with 1 Axes>"
      ]
     },
     "metadata": {},
     "output_type": "display_data"
    }
   ],
   "source": [
    "import matplotlib.pyplot as plt\n",
    "\n",
    "x = np.linspace(0, 500, 500)\n",
    "plt.xlabel('Number of Points')\n",
    "plt.ylabel('FLOPs Saved')\n",
    "plt.title('Difference in Asymptotic Behavior Without Square Root')\n",
    "plt.plot(x, 0.5*x**2, color='#DC143C')\n",
    "plt.show()"
   ]
  },
  {
   "cell_type": "markdown",
   "id": "d481b49d-208f-4f38-ae8a-dc601f1c8c60",
   "metadata": {},
   "source": [
    "If you pass 500 points to `closest_pair_optimized`, you're saving over 120,000 FLOPs just by leaving out the square root.\n",
    "\n",
    "In general, cutting out 120,000 FLOPs will always improve exeuction time, but to varying degrees, depending on the FLOPs removed. Square roots happen to be one of the most expensive floating point operations in terms of execution time, so cutting out 120,000 of them will probably speed things up significantly.\n",
    "\n",
    "Let's test it out."
   ]
  },
  {
   "cell_type": "code",
   "execution_count": 7,
   "id": "80a961d8-0a6d-4a1a-98bc-c1a95e6f435a",
   "metadata": {
    "tags": []
   },
   "outputs": [
    {
     "name": "stdout",
     "output_type": "stream",
     "text": [
      "Average time with square root: 0.24490867853164672\n",
      "Average time without square root: 0.11661527156829835\n"
     ]
    }
   ],
   "source": [
    "import time\n",
    "\n",
    "points = np.random.randn(500, 2)\n",
    "\n",
    "with_square_root_times = []\n",
    "for k in range(20):\n",
    "    start = time.time()\n",
    "    closest_pair(points)\n",
    "    end = time.time()\n",
    "    with_square_root_times.append(end - start)\n",
    "    \n",
    "print(f'Average time with square root: {np.mean(with_square_root_times)}')\n",
    "\n",
    "without_square_root_times = []\n",
    "for k in range(20):\n",
    "    start = time.time()\n",
    "    closest_pair_optimized(points)\n",
    "    end = time.time()\n",
    "    without_square_root_times.append(end - start)\n",
    "    \n",
    "print(f'Average time without square root: {np.mean(without_square_root_times)}')"
   ]
  },
  {
   "cell_type": "markdown",
   "id": "f227267d-cf57-40a0-9416-2c7d52635477",
   "metadata": {},
   "source": [
    "Removing the square root cuts the execution time _in half_! Both algorithms are $O(n^2)$, but one is much better than the other.\n",
    "\n",
    "## Conclusion\n",
    "\n",
    "In a world where every milisecond matters, it's worth caring about the leading order behavior of your algorithms. Even if you can't reduce an algorithm by an order of magnitude (e.g. $n^2$ to $n$), small improvements to the leading coefficient can result in drastic changes to execution time, creating a better experience for your users.\n",
    "\n",
    "## Appendix\n",
    "\n",
    "**Theorem** The main loop of the algorithm runs $\\frac{1}{2}(n^2 - n)$ times.\n",
    "\n",
    "Let's write the number of times the loop runs as a summation.\n",
    "\n",
    "$$\\sum_{k=0}^{n-1}\\sum_{j=k+1}^{n-1}{1}$$\n",
    "\n",
    "Let's first reduce the inner sum. The fundamental theorem of finite calculus states that\n",
    "\n",
    "$$\\sum_{k=a}^{b-1}{\\Delta[f](k)} = f(b) - f(a)$$\n",
    "\n",
    "Where $\\Delta$ is the _finite difference operator_, defined by $\\Delta[f](k) = f(k + 1) - f(k)$.\n",
    "\n",
    "So, taking f(k) = k, we have $\\Delta[f](k) = 1$, thus\n",
    "\n",
    "$$\\sum_{j=k+1}^{n-1}{1} = n - k - 1$$\n",
    "\n",
    "by the fundamental theorem. Thus the summation above is reduced to\n",
    "\n",
    "$$\\sum_{k=0}^{n-1}{(n - k - 1)} = \\sum_{k=0}^{n-1}{n} - \\sum_{k=0}^{n-1}{k} - \\sum_{k=0}^{n-1}{1} = n^2 - n - \\sum_{k=0}^{n-1}{k}$$\n",
    "\n",
    "There is a well-known formula that states that\n",
    "\n",
    "$$\\sum_{k=1}^{n}{k} = \\frac{n(n + 1)}{2}$$\n",
    "\n",
    "Using this, we have that \n",
    "\n",
    "$$\\sum_{k=0}^{n-1}{k} = 0 + \\sum_{k=1}^{n-1}{k} = \\frac{n(n-1)}{2}$$\n",
    "\n",
    "Continuing from above, this means that\n",
    "\n",
    "$$\\sum_{k=0}^{n-1}{(n - k - 1)} = n^2 - n - \\frac{n(n-1)}{2} = \\frac{n(n-1)}{2}$$\n",
    "\n",
    "Which is equivalent to $\\frac{1}{2}(n^2 - n)$. $\\blacksquare$"
   ]
  }
 ],
 "metadata": {
  "kernelspec": {
   "display_name": "Python 3 (ipykernel)",
   "language": "python",
   "name": "python3"
  },
  "language_info": {
   "codemirror_mode": {
    "name": "ipython",
    "version": 3
   },
   "file_extension": ".py",
   "mimetype": "text/x-python",
   "name": "python",
   "nbconvert_exporter": "python",
   "pygments_lexer": "ipython3",
   "version": "3.11.0"
  }
 },
 "nbformat": 4,
 "nbformat_minor": 5
}
