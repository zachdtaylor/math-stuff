{
 "cells": [
  {
   "cell_type": "markdown",
   "id": "3487fd8a-2855-4e59-950b-54ce17c9c983",
   "metadata": {},
   "source": [
    "# Markov Chains\n",
    "\n",
    "Math 321<br>\n",
    "October 26, 2017"
   ]
  },
  {
   "cell_type": "markdown",
   "id": "86ce6cdb-afb8-4461-83f6-24f7aaae7942",
   "metadata": {},
   "source": [
    "A markov chain is a model that describes a sequence of events where the probability of an event is determined only by the previous event in the sequence. \n",
    "\n",
    "A markov chain can be described by a stochastic matrix called a transition matrix. A stochastic matrix is a matrix where the columns sum to 1.\n",
    "\n",
    "In the context of a markov chain with $n$ possible states, a $n \\times n$ transition matrix $A$ can be constructed where the probability of moving to state $j$ given that we are in state $i$ is given by $A_{ji}$, that is, the value in row $j$ and column $i$.\n",
    "\n",
    "Let's do an example."
   ]
  },
  {
   "cell_type": "markdown",
   "id": "549006b3-6943-4ec0-b15e-434da9c225cf",
   "metadata": {},
   "source": [
    "## Weather Forcasting\n",
    "\n",
    "We can forecast the weather with a markov chain, given that we know some information up front.\n",
    "\n",
    "Let's say that in a certain city, the weather has 4 basic states: cold, mild, warm, and hot. We'll assign each state a number as follows: cold: 0, mild: 1, warm: 2, and hot: 3.\n",
    "\n",
    "Through historical observation of the weather, let's say that we figured out that, given that today is cold, the probabilty of it being cold tomorrow is 0.5; of it being mild is 0.3, warm is 0.2, and hot is 0. These, and the other transition probabilities, are given by the transition matrix below.\n",
    "\n",
    "$$\n",
    "\\begin{pmatrix}\n",
    "0.5 & 0.3 & 0.1 & 0\\\\\n",
    "0.3 & 0.3 & 0.3 & 0.3\\\\\n",
    "0.2 & 0.3 & 0.4 & 0.5\\\\\n",
    "0 & 0.1 & 0.2 & 0.2\n",
    "\\end{pmatrix}\n",
    "$$\n",
    "\n",
    "Using this matrix, let's write a function to forecast the weather for $n$ days, given that today is mild. "
   ]
  },
  {
   "cell_type": "code",
   "execution_count": 40,
   "id": "deb89069-e648-4aa4-9137-cdfda9a363f2",
   "metadata": {
    "tags": []
   },
   "outputs": [],
   "source": [
    "import numpy as np\n",
    "from numpy.linalg import norm\n",
    "import pdb\n",
    "\n",
    "def four_state_forecast(days):\n",
    "    \"\"\"Run a simulation for the weather over the specified number of days,\n",
    "    with mild as the starting state, using the four-state Markov chain.\n",
    "    Return a list containing the day-by-day results, not including the\n",
    "    starting day.\n",
    "\n",
    "    Examples:\n",
    "        >>> four_state_forecast(3)\n",
    "        [0, 1, 3]\n",
    "        >>> four_state_forecast(5)\n",
    "        [2, 1, 2, 1, 1]\n",
    "    \"\"\"\n",
    "    M = np.array([[.5,.3,.1,0],[.3,.3,.3,.3],[.2,.3,.4,.5],[0,.1,.2,.2]])\n",
    "    prev_day = 1 # mild\n",
    "    forecast = []\n",
    "    for k in range(days):\n",
    "        today = np.nonzero(np.random.multinomial(1, M[:,prev_day]))[0][0]\n",
    "        forecast.append(today)\n",
    "        prev_day = today\n",
    "    return forecast"
   ]
  },
  {
   "cell_type": "markdown",
   "id": "2a50443f-a212-4535-8b28-0559fd7b2c9a",
   "metadata": {},
   "source": [
    "Now let's predict the weather for the next 5 days."
   ]
  },
  {
   "cell_type": "code",
   "execution_count": 41,
   "id": "33239019-5cd3-4fc4-a66d-380f01be8e08",
   "metadata": {
    "tags": []
   },
   "outputs": [
    {
     "data": {
      "text/plain": [
       "[1, 1, 2, 3, 1]"
      ]
     },
     "execution_count": 41,
     "metadata": {},
     "output_type": "execute_result"
    }
   ],
   "source": [
    "four_state_forecast(5)"
   ]
  },
  {
   "cell_type": "code",
   "execution_count": 42,
   "id": "433f39b1-aef2-4fd4-ac7d-4f6d81ca2cfc",
   "metadata": {
    "tags": []
   },
   "outputs": [],
   "source": [
    "M = np.array([[.5,.3,.1,0],[.3,.3,.3,.3],[.2,.3,.4,.5],[0,.1,.2,.2]])"
   ]
  },
  {
   "cell_type": "markdown",
   "id": "a90df2a9-0e3e-4359-8d6e-dda646c8465f",
   "metadata": {},
   "source": [
    "## Generating Text\n",
    "\n",
    "Another cool (though not very useful) application of markov chains is simulating speech in the style of some text.\n",
    "\n",
    "Given a sample of text, be it from a book, or lines of dialogue in a movie, or something else, we can construct a transition matrix from the probability of occurance of each word in the text."
   ]
  },
  {
   "cell_type": "code",
   "execution_count": 43,
   "id": "34f34c57-9f89-45e9-a345-9604ad81250f",
   "metadata": {
    "tags": []
   },
   "outputs": [],
   "source": [
    "class SentenceGenerator(object):\n",
    "    \"\"\"Markov chain creator for simulating bad English.\n",
    "\n",
    "    Attributes:\n",
    "        transition ((n,n) ndarray): transition matrix for the markov chain\n",
    "        states (list of length n): words in the order used by the transition matrix\n",
    "\n",
    "    Example:\n",
    "        >>> yoda = SentenceGenerator(\"Yoda.txt\")\n",
    "        >>> print(yoda.babble())\n",
    "        If once you trained, gone am I do not, miss them do you?\n",
    "    \"\"\"\n",
    "    def __init__(self, filename):\n",
    "        \"\"\"Read the specified file and build a transition matrix from its\n",
    "        contents. We will assume that the file has one complete sentence\n",
    "        written on each line.\n",
    "        \"\"\"\n",
    "        word_set = set()\n",
    "        with open(filename, 'r') as f:\n",
    "            for sentence in f:\n",
    "                word_set.update(sentence.strip().split())\n",
    "        n = len(word_set)\n",
    "        \n",
    "        self.transition = np.zeros((n+2,n+2))\n",
    "        self.states = [\"$tart\"] + list(word_set) + [\"$top\"]\n",
    "\n",
    "        with open(filename, 'r') as f:\n",
    "            for sentence in f:\n",
    "                words = sentence.strip().split()\n",
    "                \n",
    "                first_word_idx = self.states.index(words[0])\n",
    "                last_word_idx = self.states.index(words[-1])\n",
    "                \n",
    "                self.transition[first_word_idx, 0] += 1\n",
    "                self.transition[n+1, last_word_idx] += 1\n",
    "\n",
    "                for k in range(len(words) - 1):\n",
    "                    current_word_idx = self.states.index(words[k])\n",
    "                    next_word_idx = self.states.index(words[k+1])\n",
    "                    self.transition[next_word_idx, current_word_idx] += 1\n",
    "        \n",
    "        # You can't leave the $top state once you're in it\n",
    "        self.transition[n+1, n+1] = 1\n",
    "        # Make each column sum to 1\n",
    "        self.transition = self.transition / np.sum(self.transition, axis=0)\n",
    "\n",
    "    def babble(self):\n",
    "        \"\"\"Produce a string of text using the markov chain model produced\n",
    "        by the transition matrix created in the constructor.\n",
    "        \n",
    "        When the '$top' state is reached, stop transitioning and terminate the\n",
    "        sentence.\n",
    "        \"\"\"\n",
    "        sentence = []\n",
    "        state = 0\n",
    "        while state != len(self.states) - 1:\n",
    "            draw = np.random.multinomial(1, self.transition[:,state])\n",
    "            state = np.nonzero(draw)[0][0]\n",
    "            sentence.append(self.states[state])\n",
    "        return ' '.join(sentence[:-1])"
   ]
  },
  {
   "cell_type": "code",
   "execution_count": 44,
   "id": "3d80c2af-2837-41ca-ba17-0a0fee6d515d",
   "metadata": {},
   "outputs": [],
   "source": [
    "yoda = SentenceGenerator(\"Vol-2/MarkovChains/yoda.txt\")"
   ]
  },
  {
   "cell_type": "code",
   "execution_count": 53,
   "id": "0f02c61b-7a73-449d-843a-87f699e37ea6",
   "metadata": {
    "tags": []
   },
   "outputs": [
    {
     "data": {
      "text/plain": [
       "'A Jedi craves not that which you should not.'"
      ]
     },
     "execution_count": 53,
     "metadata": {},
     "output_type": "execute_result"
    }
   ],
   "source": [
    "yoda.babble()"
   ]
  }
 ],
 "metadata": {
  "kernelspec": {
   "display_name": "Python 3 (ipykernel)",
   "language": "python",
   "name": "python3"
  },
  "language_info": {
   "codemirror_mode": {
    "name": "ipython",
    "version": 3
   },
   "file_extension": ".py",
   "mimetype": "text/x-python",
   "name": "python",
   "nbconvert_exporter": "python",
   "pygments_lexer": "ipython3",
   "version": "3.11.0"
  }
 },
 "nbformat": 4,
 "nbformat_minor": 5
}
